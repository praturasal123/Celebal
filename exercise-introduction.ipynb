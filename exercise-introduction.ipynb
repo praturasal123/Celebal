{
 "cells": [
  {
   "cell_type": "markdown",
   "id": "848bdb30",
   "metadata": {
    "papermill": {
     "duration": 0.004711,
     "end_time": "2025-04-11T11:02:21.203093",
     "exception": false,
     "start_time": "2025-04-11T11:02:21.198382",
     "status": "completed"
    },
    "tags": []
   },
   "source": [
    "**This notebook is an exercise in the [Intermediate Machine Learning](https://www.kaggle.com/learn/intermediate-machine-learning) course.  You can reference the tutorial at [this link](https://www.kaggle.com/alexisbcook/introduction).**\n",
    "\n",
    "---\n"
   ]
  },
  {
   "cell_type": "markdown",
   "id": "6b918be8",
   "metadata": {
    "papermill": {
     "duration": 0.003997,
     "end_time": "2025-04-11T11:02:21.211278",
     "exception": false,
     "start_time": "2025-04-11T11:02:21.207281",
     "status": "completed"
    },
    "tags": []
   },
   "source": [
    "As a warm-up, you'll review some machine learning fundamentals and submit your initial results to a Kaggle competition.\n",
    "\n",
    "# Setup\n",
    "\n",
    "The questions below will give you feedback on your work. Run the following cell to set up the feedback system."
   ]
  },
  {
   "cell_type": "code",
   "execution_count": 1,
   "id": "90ed7993",
   "metadata": {
    "execution": {
     "iopub.execute_input": "2025-04-11T11:02:21.221347Z",
     "iopub.status.busy": "2025-04-11T11:02:21.220829Z",
     "iopub.status.idle": "2025-04-11T11:02:26.191764Z",
     "shell.execute_reply": "2025-04-11T11:02:26.190408Z"
    },
    "papermill": {
     "duration": 4.978018,
     "end_time": "2025-04-11T11:02:26.193474",
     "exception": false,
     "start_time": "2025-04-11T11:02:21.215456",
     "status": "completed"
    },
    "tags": []
   },
   "outputs": [
    {
     "name": "stdout",
     "output_type": "stream",
     "text": [
      "Setup Complete\n"
     ]
    }
   ],
   "source": [
    "# Set up code checking\n",
    "import os\n",
    "if not os.path.exists(\"../input/train.csv\"):\n",
    "    os.symlink(\"../input/home-data-for-ml-course/train.csv\", \"../input/train.csv\")  \n",
    "    os.symlink(\"../input/home-data-for-ml-course/test.csv\", \"../input/test.csv\")  \n",
    "from learntools.core import binder\n",
    "binder.bind(globals())\n",
    "from learntools.ml_intermediate.ex1 import *\n",
    "print(\"Setup Complete\")"
   ]
  },
  {
   "cell_type": "markdown",
   "id": "bcb34c7e",
   "metadata": {
    "papermill": {
     "duration": 0.004324,
     "end_time": "2025-04-11T11:02:26.202441",
     "exception": false,
     "start_time": "2025-04-11T11:02:26.198117",
     "status": "completed"
    },
    "tags": []
   },
   "source": [
    "You will work with data from the [Housing Prices Competition for Kaggle Learn Users](https://www.kaggle.com/c/home-data-for-ml-course) to predict home prices in Iowa using 79 explanatory variables describing (almost) every aspect of the homes.  \n",
    "\n",
    "![Ames Housing dataset image](https://storage.googleapis.com/kaggle-media/learn/images/lTJVG4e.png)\n",
    "\n",
    "Run the next code cell without changes to load the training and validation features in `X_train` and `X_valid`, along with the prediction targets in `y_train` and `y_valid`.  The test features are loaded in `X_test`.  (_If you need to review **features** and **prediction targets**, please check out [this short tutorial](https://www.kaggle.com/dansbecker/your-first-machine-learning-model).  To read about model **validation**, look [here](https://www.kaggle.com/dansbecker/model-validation).  Alternatively, if you'd prefer to look through a full course to review all of these topics, start [here](https://www.kaggle.com/learn/machine-learning).)_"
   ]
  },
  {
   "cell_type": "code",
   "execution_count": 2,
   "id": "30605a71",
   "metadata": {
    "execution": {
     "iopub.execute_input": "2025-04-11T11:02:26.216661Z",
     "iopub.status.busy": "2025-04-11T11:02:26.214897Z",
     "iopub.status.idle": "2025-04-11T11:02:26.334407Z",
     "shell.execute_reply": "2025-04-11T11:02:26.332744Z"
    },
    "papermill": {
     "duration": 0.130306,
     "end_time": "2025-04-11T11:02:26.337562",
     "exception": false,
     "start_time": "2025-04-11T11:02:26.207256",
     "status": "completed"
    },
    "tags": []
   },
   "outputs": [],
   "source": [
    "import pandas as pd\n",
    "from sklearn.model_selection import train_test_split\n",
    "\n",
    "# Read the data\n",
    "X_full = pd.read_csv('../input/train.csv', index_col='Id')\n",
    "X_test_full = pd.read_csv('../input/test.csv', index_col='Id')\n",
    "\n",
    "# Obtain target and predictors\n",
    "y = X_full.SalePrice\n",
    "features = ['LotArea', 'YearBuilt', '1stFlrSF', '2ndFlrSF', 'FullBath', 'BedroomAbvGr', 'TotRmsAbvGrd']\n",
    "X = X_full[features].copy()\n",
    "X_test = X_test_full[features].copy()\n",
    "\n",
    "# Break off validation set from training data\n",
    "X_train, X_valid, y_train, y_valid = train_test_split(X, y, train_size=0.8, test_size=0.2,\n",
    "                                                      random_state=0)"
   ]
  },
  {
   "cell_type": "markdown",
   "id": "0cfe92d4",
   "metadata": {
    "papermill": {
     "duration": 0.004173,
     "end_time": "2025-04-11T11:02:26.347152",
     "exception": false,
     "start_time": "2025-04-11T11:02:26.342979",
     "status": "completed"
    },
    "tags": []
   },
   "source": [
    "Use the next cell to print the first several rows of the data. It's a nice way to get an overview of the data you will use in your price prediction model."
   ]
  },
  {
   "cell_type": "code",
   "execution_count": 3,
   "id": "aecb6edb",
   "metadata": {
    "execution": {
     "iopub.execute_input": "2025-04-11T11:02:26.357981Z",
     "iopub.status.busy": "2025-04-11T11:02:26.357565Z",
     "iopub.status.idle": "2025-04-11T11:02:26.397383Z",
     "shell.execute_reply": "2025-04-11T11:02:26.396008Z"
    },
    "papermill": {
     "duration": 0.048525,
     "end_time": "2025-04-11T11:02:26.399929",
     "exception": false,
     "start_time": "2025-04-11T11:02:26.351404",
     "status": "completed"
    },
    "tags": []
   },
   "outputs": [
    {
     "data": {
      "text/html": [
       "<div>\n",
       "<style scoped>\n",
       "    .dataframe tbody tr th:only-of-type {\n",
       "        vertical-align: middle;\n",
       "    }\n",
       "\n",
       "    .dataframe tbody tr th {\n",
       "        vertical-align: top;\n",
       "    }\n",
       "\n",
       "    .dataframe thead th {\n",
       "        text-align: right;\n",
       "    }\n",
       "</style>\n",
       "<table border=\"1\" class=\"dataframe\">\n",
       "  <thead>\n",
       "    <tr style=\"text-align: right;\">\n",
       "      <th></th>\n",
       "      <th>LotArea</th>\n",
       "      <th>YearBuilt</th>\n",
       "      <th>1stFlrSF</th>\n",
       "      <th>2ndFlrSF</th>\n",
       "      <th>FullBath</th>\n",
       "      <th>BedroomAbvGr</th>\n",
       "      <th>TotRmsAbvGrd</th>\n",
       "    </tr>\n",
       "    <tr>\n",
       "      <th>Id</th>\n",
       "      <th></th>\n",
       "      <th></th>\n",
       "      <th></th>\n",
       "      <th></th>\n",
       "      <th></th>\n",
       "      <th></th>\n",
       "      <th></th>\n",
       "    </tr>\n",
       "  </thead>\n",
       "  <tbody>\n",
       "    <tr>\n",
       "      <th>619</th>\n",
       "      <td>11694</td>\n",
       "      <td>2007</td>\n",
       "      <td>1828</td>\n",
       "      <td>0</td>\n",
       "      <td>2</td>\n",
       "      <td>3</td>\n",
       "      <td>9</td>\n",
       "    </tr>\n",
       "    <tr>\n",
       "      <th>871</th>\n",
       "      <td>6600</td>\n",
       "      <td>1962</td>\n",
       "      <td>894</td>\n",
       "      <td>0</td>\n",
       "      <td>1</td>\n",
       "      <td>2</td>\n",
       "      <td>5</td>\n",
       "    </tr>\n",
       "    <tr>\n",
       "      <th>93</th>\n",
       "      <td>13360</td>\n",
       "      <td>1921</td>\n",
       "      <td>964</td>\n",
       "      <td>0</td>\n",
       "      <td>1</td>\n",
       "      <td>2</td>\n",
       "      <td>5</td>\n",
       "    </tr>\n",
       "    <tr>\n",
       "      <th>818</th>\n",
       "      <td>13265</td>\n",
       "      <td>2002</td>\n",
       "      <td>1689</td>\n",
       "      <td>0</td>\n",
       "      <td>2</td>\n",
       "      <td>3</td>\n",
       "      <td>7</td>\n",
       "    </tr>\n",
       "    <tr>\n",
       "      <th>303</th>\n",
       "      <td>13704</td>\n",
       "      <td>2001</td>\n",
       "      <td>1541</td>\n",
       "      <td>0</td>\n",
       "      <td>2</td>\n",
       "      <td>3</td>\n",
       "      <td>6</td>\n",
       "    </tr>\n",
       "  </tbody>\n",
       "</table>\n",
       "</div>"
      ],
      "text/plain": [
       "     LotArea  YearBuilt  1stFlrSF  2ndFlrSF  FullBath  BedroomAbvGr  \\\n",
       "Id                                                                    \n",
       "619    11694       2007      1828         0         2             3   \n",
       "871     6600       1962       894         0         1             2   \n",
       "93     13360       1921       964         0         1             2   \n",
       "818    13265       2002      1689         0         2             3   \n",
       "303    13704       2001      1541         0         2             3   \n",
       "\n",
       "     TotRmsAbvGrd  \n",
       "Id                 \n",
       "619             9  \n",
       "871             5  \n",
       "93              5  \n",
       "818             7  \n",
       "303             6  "
      ]
     },
     "execution_count": 3,
     "metadata": {},
     "output_type": "execute_result"
    }
   ],
   "source": [
    "X_train.head()"
   ]
  },
  {
   "cell_type": "markdown",
   "id": "c01f13f7",
   "metadata": {
    "papermill": {
     "duration": 0.004639,
     "end_time": "2025-04-11T11:02:26.409515",
     "exception": false,
     "start_time": "2025-04-11T11:02:26.404876",
     "status": "completed"
    },
    "tags": []
   },
   "source": [
    "The next code cell defines five different random forest models.  Run this code cell without changes.  (_To review **random forests**, look [here](https://www.kaggle.com/dansbecker/random-forests)._)"
   ]
  },
  {
   "cell_type": "code",
   "execution_count": 4,
   "id": "6e3dec17",
   "metadata": {
    "execution": {
     "iopub.execute_input": "2025-04-11T11:02:26.425082Z",
     "iopub.status.busy": "2025-04-11T11:02:26.423324Z",
     "iopub.status.idle": "2025-04-11T11:02:26.431236Z",
     "shell.execute_reply": "2025-04-11T11:02:26.429610Z"
    },
    "papermill": {
     "duration": 0.018201,
     "end_time": "2025-04-11T11:02:26.433602",
     "exception": false,
     "start_time": "2025-04-11T11:02:26.415401",
     "status": "completed"
    },
    "tags": []
   },
   "outputs": [],
   "source": [
    "from sklearn.ensemble import RandomForestRegressor\n",
    "\n",
    "# Define the models\n",
    "model_1 = RandomForestRegressor(n_estimators=50, random_state=0)\n",
    "model_2 = RandomForestRegressor(n_estimators=100, random_state=0)\n",
    "model_3 = RandomForestRegressor(n_estimators=100, criterion='absolute_error', random_state=0)\n",
    "model_4 = RandomForestRegressor(n_estimators=200, min_samples_split=20, random_state=0)\n",
    "model_5 = RandomForestRegressor(n_estimators=100, max_depth=7, random_state=0)\n",
    "\n",
    "models = [model_1, model_2, model_3, model_4, model_5]"
   ]
  },
  {
   "cell_type": "markdown",
   "id": "5e0d9a4d",
   "metadata": {
    "papermill": {
     "duration": 0.004573,
     "end_time": "2025-04-11T11:02:26.443500",
     "exception": false,
     "start_time": "2025-04-11T11:02:26.438927",
     "status": "completed"
    },
    "tags": []
   },
   "source": [
    "To select the best model out of the five, we define a function `score_model()` below.  This function returns the mean absolute error (MAE) from the validation set.  Recall that the best model will obtain the lowest MAE.  (_To review **mean absolute error**, look [here](https://www.kaggle.com/dansbecker/model-validation).)_\n",
    "\n",
    "Run the code cell without changes."
   ]
  },
  {
   "cell_type": "code",
   "execution_count": 5,
   "id": "db77887e",
   "metadata": {
    "execution": {
     "iopub.execute_input": "2025-04-11T11:02:26.457079Z",
     "iopub.status.busy": "2025-04-11T11:02:26.456658Z",
     "iopub.status.idle": "2025-04-11T11:02:32.095572Z",
     "shell.execute_reply": "2025-04-11T11:02:32.094739Z"
    },
    "papermill": {
     "duration": 5.647334,
     "end_time": "2025-04-11T11:02:32.097330",
     "exception": false,
     "start_time": "2025-04-11T11:02:26.449996",
     "status": "completed"
    },
    "tags": []
   },
   "outputs": [
    {
     "name": "stdout",
     "output_type": "stream",
     "text": [
      "Model 1 MAE: 24015\n",
      "Model 2 MAE: 23740\n",
      "Model 3 MAE: 23528\n",
      "Model 4 MAE: 23996\n",
      "Model 5 MAE: 23706\n"
     ]
    }
   ],
   "source": [
    "from sklearn.metrics import mean_absolute_error\n",
    "\n",
    "# Function for comparing different models\n",
    "def score_model(model, X_t=X_train, X_v=X_valid, y_t=y_train, y_v=y_valid):\n",
    "    model.fit(X_t, y_t)\n",
    "    preds = model.predict(X_v)\n",
    "    return mean_absolute_error(y_v, preds)\n",
    "\n",
    "for i in range(0, len(models)):\n",
    "    mae = score_model(models[i])\n",
    "    print(\"Model %d MAE: %d\" % (i+1, mae))"
   ]
  },
  {
   "cell_type": "markdown",
   "id": "dc42bc5f",
   "metadata": {
    "papermill": {
     "duration": 0.004406,
     "end_time": "2025-04-11T11:02:32.106589",
     "exception": false,
     "start_time": "2025-04-11T11:02:32.102183",
     "status": "completed"
    },
    "tags": []
   },
   "source": [
    "# Step 1: Evaluate several models\n",
    "\n",
    "Use the above results to fill in the line below.  Which model is the best model?  Your answer should be one of `model_1`, `model_2`, `model_3`, `model_4`, or `model_5`."
   ]
  },
  {
   "cell_type": "code",
   "execution_count": 6,
   "id": "9dbd9e85",
   "metadata": {
    "execution": {
     "iopub.execute_input": "2025-04-11T11:02:32.116540Z",
     "iopub.status.busy": "2025-04-11T11:02:32.116229Z",
     "iopub.status.idle": "2025-04-11T11:02:32.124148Z",
     "shell.execute_reply": "2025-04-11T11:02:32.123181Z"
    },
    "papermill": {
     "duration": 0.014662,
     "end_time": "2025-04-11T11:02:32.125677",
     "exception": false,
     "start_time": "2025-04-11T11:02:32.111015",
     "status": "completed"
    },
    "tags": []
   },
   "outputs": [
    {
     "data": {
      "application/javascript": [
       "parent.postMessage({\"jupyterEvent\": \"custom.exercise_interaction\", \"data\": {\"outcomeType\": 4, \"interactionType\": 1, \"questionType\": 2, \"questionId\": \"1_BestModel\", \"learnToolsVersion\": \"0.3.5\", \"valueTowardsCompletion\": 0.0, \"failureMessage\": \"\", \"exceptionClass\": \"\", \"trace\": \"\"}}, \"*\")"
      ],
      "text/plain": [
       "<IPython.core.display.Javascript object>"
      ]
     },
     "metadata": {},
     "output_type": "display_data"
    },
    {
     "data": {
      "text/markdown": [
       "<span style=\"color:#ccaa33\">Check:</span> When you've updated the starter code, `check()` will tell you whether your code is correct. You need to update the code that creates variable `best_model`"
      ],
      "text/plain": [
       "Check: When you've updated the starter code, `check()` will tell you whether your code is correct. You need to update the code that creates variable `best_model`"
      ]
     },
     "metadata": {},
     "output_type": "display_data"
    }
   ],
   "source": [
    "# Fill in the best model\n",
    "best_model = ____\n",
    "\n",
    "# Check your answer\n",
    "step_1.check()"
   ]
  },
  {
   "cell_type": "code",
   "execution_count": 7,
   "id": "557674b5",
   "metadata": {
    "execution": {
     "iopub.execute_input": "2025-04-11T11:02:32.136772Z",
     "iopub.status.busy": "2025-04-11T11:02:32.136378Z",
     "iopub.status.idle": "2025-04-11T11:02:32.140754Z",
     "shell.execute_reply": "2025-04-11T11:02:32.139666Z"
    },
    "papermill": {
     "duration": 0.011752,
     "end_time": "2025-04-11T11:02:32.142379",
     "exception": false,
     "start_time": "2025-04-11T11:02:32.130627",
     "status": "completed"
    },
    "tags": []
   },
   "outputs": [],
   "source": [
    "# Lines below will give you a hint or solution code\n",
    "#step_1.hint()\n",
    "#step_1.solution()"
   ]
  },
  {
   "cell_type": "markdown",
   "id": "db19f3af",
   "metadata": {
    "papermill": {
     "duration": 0.004935,
     "end_time": "2025-04-11T11:02:32.152612",
     "exception": false,
     "start_time": "2025-04-11T11:02:32.147677",
     "status": "completed"
    },
    "tags": []
   },
   "source": [
    "# Step 2: Generate test predictions\n",
    "\n",
    "Great. You know how to evaluate what makes an accurate model. Now it's time to go through the modeling process and make predictions. In the line below, create a Random Forest model with the variable name `my_model`."
   ]
  },
  {
   "cell_type": "code",
   "execution_count": 8,
   "id": "4054e8d9",
   "metadata": {
    "execution": {
     "iopub.execute_input": "2025-04-11T11:02:32.163390Z",
     "iopub.status.busy": "2025-04-11T11:02:32.163073Z",
     "iopub.status.idle": "2025-04-11T11:02:32.171272Z",
     "shell.execute_reply": "2025-04-11T11:02:32.170165Z"
    },
    "papermill": {
     "duration": 0.015813,
     "end_time": "2025-04-11T11:02:32.173109",
     "exception": false,
     "start_time": "2025-04-11T11:02:32.157296",
     "status": "completed"
    },
    "tags": []
   },
   "outputs": [
    {
     "data": {
      "application/javascript": [
       "parent.postMessage({\"jupyterEvent\": \"custom.exercise_interaction\", \"data\": {\"outcomeType\": 4, \"interactionType\": 1, \"questionType\": 2, \"questionId\": \"2_Predictions\", \"learnToolsVersion\": \"0.3.5\", \"valueTowardsCompletion\": 0.0, \"failureMessage\": \"\", \"exceptionClass\": \"\", \"trace\": \"\"}}, \"*\")"
      ],
      "text/plain": [
       "<IPython.core.display.Javascript object>"
      ]
     },
     "metadata": {},
     "output_type": "display_data"
    },
    {
     "data": {
      "text/markdown": [
       "<span style=\"color:#ccaa33\">Check:</span> When you've updated the starter code, `check()` will tell you whether your code is correct. You need to update the code that creates variable `my_model`"
      ],
      "text/plain": [
       "Check: When you've updated the starter code, `check()` will tell you whether your code is correct. You need to update the code that creates variable `my_model`"
      ]
     },
     "metadata": {},
     "output_type": "display_data"
    }
   ],
   "source": [
    "# Define a model\n",
    "my_model = ____ # Your code here\n",
    "\n",
    "# Check your answer\n",
    "step_2.check()"
   ]
  },
  {
   "cell_type": "code",
   "execution_count": 9,
   "id": "6a76e83d",
   "metadata": {
    "execution": {
     "iopub.execute_input": "2025-04-11T11:02:32.184617Z",
     "iopub.status.busy": "2025-04-11T11:02:32.184273Z",
     "iopub.status.idle": "2025-04-11T11:02:32.188660Z",
     "shell.execute_reply": "2025-04-11T11:02:32.187763Z"
    },
    "papermill": {
     "duration": 0.012014,
     "end_time": "2025-04-11T11:02:32.190443",
     "exception": false,
     "start_time": "2025-04-11T11:02:32.178429",
     "status": "completed"
    },
    "tags": []
   },
   "outputs": [],
   "source": [
    "# Lines below will give you a hint or solution code\n",
    "#step_2.hint()\n",
    "#step_2.solution()"
   ]
  },
  {
   "cell_type": "markdown",
   "id": "ce8f1c01",
   "metadata": {
    "papermill": {
     "duration": 0.004722,
     "end_time": "2025-04-11T11:02:32.200017",
     "exception": false,
     "start_time": "2025-04-11T11:02:32.195295",
     "status": "completed"
    },
    "tags": []
   },
   "source": [
    "Run the next code cell without changes.  The code fits the model to the training and validation data, and then generates test predictions that are saved to a CSV file.  These test predictions can be submitted directly to the competition!"
   ]
  },
  {
   "cell_type": "code",
   "execution_count": 10,
   "id": "b910ea23",
   "metadata": {
    "execution": {
     "iopub.execute_input": "2025-04-11T11:02:32.211585Z",
     "iopub.status.busy": "2025-04-11T11:02:32.211244Z",
     "iopub.status.idle": "2025-04-11T11:02:32.215835Z",
     "shell.execute_reply": "2025-04-11T11:02:32.214779Z"
    },
    "papermill": {
     "duration": 0.012289,
     "end_time": "2025-04-11T11:02:32.217361",
     "exception": false,
     "start_time": "2025-04-11T11:02:32.205072",
     "status": "completed"
    },
    "tags": []
   },
   "outputs": [],
   "source": [
    "\n",
    "# Define model here\n",
    "my_model = __  # Your code here\n"
   ]
  },
  {
   "cell_type": "code",
   "execution_count": 11,
   "id": "392c47ef",
   "metadata": {
    "execution": {
     "iopub.execute_input": "2025-04-11T11:02:32.228990Z",
     "iopub.status.busy": "2025-04-11T11:02:32.228446Z",
     "iopub.status.idle": "2025-04-11T11:02:36.825048Z",
     "shell.execute_reply": "2025-04-11T11:02:36.823801Z"
    },
    "papermill": {
     "duration": 4.604538,
     "end_time": "2025-04-11T11:02:36.826927",
     "exception": false,
     "start_time": "2025-04-11T11:02:32.222389",
     "status": "completed"
    },
    "tags": []
   },
   "outputs": [],
   "source": [
    "from sklearn.ensemble import RandomForestClassifier\n",
    "\n",
    "# Initialize the model\n",
    "my_model = RandomForestClassifier(random_state=1)\n",
    "\n",
    "# Fit the model to the training data\n",
    "my_model.fit(X, y)\n",
    "\n",
    "# Generate test predictions\n",
    "preds_test = my_model.predict(X_test)\n"
   ]
  },
  {
   "cell_type": "code",
   "execution_count": 12,
   "id": "c2a1b051",
   "metadata": {
    "execution": {
     "iopub.execute_input": "2025-04-11T11:02:36.841491Z",
     "iopub.status.busy": "2025-04-11T11:02:36.841076Z",
     "iopub.status.idle": "2025-04-11T11:02:40.947803Z",
     "shell.execute_reply": "2025-04-11T11:02:40.946791Z"
    },
    "papermill": {
     "duration": 4.115886,
     "end_time": "2025-04-11T11:02:40.949456",
     "exception": false,
     "start_time": "2025-04-11T11:02:36.833570",
     "status": "completed"
    },
    "tags": []
   },
   "outputs": [],
   "source": [
    "# Fit the model to the training data\n",
    "my_model.fit(X, y)\n",
    "\n",
    "# Generate test predictions\n",
    "preds_test = my_model.predict(X_test)\n",
    "\n",
    "# Save predictions in format used for competition scoring\n",
    "output = pd.DataFrame({'Id': X_test.index,\n",
    "                       'SalePrice': preds_test})\n",
    "output.to_csv('submission.csv', index=False)"
   ]
  },
  {
   "cell_type": "markdown",
   "id": "a0b8031d",
   "metadata": {
    "papermill": {
     "duration": 0.006163,
     "end_time": "2025-04-11T11:02:40.961249",
     "exception": false,
     "start_time": "2025-04-11T11:02:40.955086",
     "status": "completed"
    },
    "tags": []
   },
   "source": [
    "# Submit your results\n",
    "\n",
    "Once you have successfully completed Step 2, you're ready to submit your results to the leaderboard!  First, you'll need to join the competition if you haven't already.  So open a new window by clicking on [this link](https://www.kaggle.com/c/home-data-for-ml-course).  Then click on the **Join Competition** button.  _(If you see a \"Submit Predictions\" button instead of a \"Join Competition\" button, you have already joined the competition, and don't need to do so again.)_\n",
    "\n",
    "Next, follow the instructions below:\n",
    "1. Begin by clicking on the **Save Version** button in the top right corner of the window.  This will generate a pop-up window.  \n",
    "2. Ensure that the **Save and Run All** option is selected, and then click on the **Save** button.\n",
    "3. This generates a window in the bottom left corner of the notebook.  After it has finished running, click on the number to the right of the **Save Version** button.  This pulls up a list of versions on the right of the screen.  Click on the ellipsis **(...)** to the right of the most recent version, and select **Open in Viewer**.  This brings you into view mode of the same page. You will need to scroll down to get back to these instructions.\n",
    "4. Click on the **Data** tab near the top of the screen.  Then, click on the file you would like to submit, and click on the **Submit** button to submit your results to the leaderboard.\n",
    "\n",
    "You have now successfully submitted to the competition!\n",
    "\n",
    "If you want to keep working to improve your performance, select the **Edit** button in the top right of the screen. Then you can change your code and repeat the process. There's a lot of room to improve, and you will climb up the leaderboard as you work.\n"
   ]
  },
  {
   "cell_type": "markdown",
   "id": "76be4fa5",
   "metadata": {
    "papermill": {
     "duration": 0.005095,
     "end_time": "2025-04-11T11:02:40.971779",
     "exception": false,
     "start_time": "2025-04-11T11:02:40.966684",
     "status": "completed"
    },
    "tags": []
   },
   "source": [
    "# Keep going\n",
    "\n",
    "You've made your first model. But how can you quickly make it better?\n",
    "\n",
    "Learn how to improve your competition results by incorporating columns with **[missing values](https://www.kaggle.com/alexisbcook/missing-values)**."
   ]
  },
  {
   "cell_type": "markdown",
   "id": "5eb1a85f",
   "metadata": {
    "papermill": {
     "duration": 0.004563,
     "end_time": "2025-04-11T11:02:40.981680",
     "exception": false,
     "start_time": "2025-04-11T11:02:40.977117",
     "status": "completed"
    },
    "tags": []
   },
   "source": [
    "---\n",
    "\n",
    "\n",
    "\n",
    "\n",
    "*Have questions or comments? Visit the [course discussion forum](https://www.kaggle.com/learn/intermediate-machine-learning/discussion) to chat with other learners.*"
   ]
  }
 ],
 "metadata": {
  "kaggle": {
   "accelerator": "none",
   "dataSources": [
    {
     "databundleVersionId": 111096,
     "sourceId": 10211,
     "sourceType": "competition"
    }
   ],
   "isGpuEnabled": false,
   "isInternetEnabled": false,
   "language": "python",
   "sourceType": "notebook"
  },
  "kernelspec": {
   "display_name": "Python 3",
   "language": "python",
   "name": "python3"
  },
  "language_info": {
   "codemirror_mode": {
    "name": "ipython",
    "version": 3
   },
   "file_extension": ".py",
   "mimetype": "text/x-python",
   "name": "python",
   "nbconvert_exporter": "python",
   "pygments_lexer": "ipython3",
   "version": "3.11.11"
  },
  "papermill": {
   "default_parameters": {},
   "duration": 27.831636,
   "end_time": "2025-04-11T11:02:42.013662",
   "environment_variables": {},
   "exception": null,
   "input_path": "__notebook__.ipynb",
   "output_path": "__notebook__.ipynb",
   "parameters": {},
   "start_time": "2025-04-11T11:02:14.182026",
   "version": "2.6.0"
  }
 },
 "nbformat": 4,
 "nbformat_minor": 5
}
